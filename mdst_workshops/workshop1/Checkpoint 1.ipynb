{
 "cells": [
  {
   "cell_type": "code",
   "execution_count": 35,
   "metadata": {},
   "outputs": [
    {
     "name": "stdin",
     "output_type": "stream",
     "text": [
      "Enter a number 2\n"
     ]
    },
    {
     "name": "stdout",
     "output_type": "stream",
     "text": [
      "Even\n"
     ]
    },
    {
     "name": "stdin",
     "output_type": "stream",
     "text": [
      "Enter a number 3\n"
     ]
    },
    {
     "name": "stdout",
     "output_type": "stream",
     "text": [
      "Odd\n"
     ]
    },
    {
     "name": "stdin",
     "output_type": "stream",
     "text": [
      "Enter a number (type exit to quit) exit\n"
     ]
    },
    {
     "name": "stdout",
     "output_type": "stream",
     "text": [
      "Not a Palindrome\n",
      "Palindrome\n",
      "Username:b'naitian'\n",
      "Password:b'p4ssw0rd'\n",
      "Username: b'naitian'\n",
      "Password: p4ssw0rd!\n",
      "Username:b'naitian'\n",
      "Password:b'p4ssw0rd!'\n"
     ]
    }
   ],
   "source": [
    "\"\"\"\n",
    "MDST Workshop 1 - Python Basics Starter Code\n",
    "\"\"\"\n",
    "\n",
    "from random import randint\n",
    "import base64\n",
    "\n",
    "\n",
    "def part1(num):\n",
    "    \"\"\"\n",
    "    Ask the user for a number. Depending on whether the number is even or odd,\n",
    "    print out an appropriate (i.e. \"even\" or \"odd\") message to the user.\n",
    "    \"\"\"\n",
    "    \n",
    "    inn = int(input(\"Enter a number\"))\n",
    "    if(inn%2==0):\n",
    "        print(\"Even\")\n",
    "    else:\n",
    "        print(\"Odd\")\n",
    "\n",
    "\n",
    "def part2():\n",
    "    \"\"\"\n",
    "    Generate a random number between 1 and 9 (including 1 and 9). Ask the user\n",
    "    to guess the number, then tell them whether they guessed too low, too high,\n",
    "    or exactly right.\n",
    "    (Hint: remember to use the user input lessons from the very first\n",
    "    exercise).\n",
    "    Keep the game going until the user types \"exit\".\n",
    "    [ try checking the random module in python on google. Concepts: Infinite\n",
    "    loops, if, else, loops and user/input].\n",
    "    \"\"\"\n",
    "\n",
    "    correct = randint(1, 9)\n",
    "    guess = \"N/A\"\n",
    "    while(guess != \"exit\"):\n",
    "        guess = input(\"Enter a number (type exit to quit)\")\n",
    "        if(guess != \"exit\"):\n",
    "            if(int(guess) > correct):\n",
    "                print(\"too high\")\n",
    "            elif(int(guess) < correct):\n",
    "                 print(\"too low\")\n",
    "            else:\n",
    "                 print(\"Correct!\")\n",
    "\n",
    "def part3(string):\n",
    "    \"\"\"\n",
    "    Ask the user for a string and print out whether this string is a palindrome\n",
    "    or not. (A palindrome is a string that reads the same forwards and\n",
    "    backwards.)\n",
    "    \"\"\"\n",
    "    \n",
    "    if(string == string[::-1]):\n",
    "        print(\"Palindrome\")\n",
    "    else:\n",
    "        print(\"Not a Palindrome\")\n",
    "\n",
    "\n",
    "def part4a(filename, username, password):\n",
    "    \"\"\"\n",
    "    Encrypt your username and password using base64 module\n",
    "    Store your encrypted username on the first line and your encrypted password\n",
    "    on the second line.\n",
    "    \"\"\"\n",
    "\n",
    "    username_encode = base64.encodebytes(username.encode(\"ascii\")) \n",
    "    password_encode = base64.encodebytes(password.encode(\"ascii\"))\n",
    "\n",
    "    f = open(filename, \"w\")\n",
    "    f.write(str(username_encode) + '\\n')\n",
    "    f.write(str(password_encode))\n",
    "    f.close()\n",
    "\n",
    "def part4b(filename, password=None):\n",
    "    \"\"\"\n",
    "    Create a function to read the file with your login information.\n",
    "    Print out the decrypted username and password.\n",
    "    If a password is specified, update the file with the new password.\n",
    "    \"\"\"\n",
    "    \n",
    "    f = open(filename, \"r\")\n",
    "    f1 = f.readlines()\n",
    "    decoded_username = base64.b64decode(f1[0][2:-3])\n",
    "    decoded_password = base64.b64decode(f1[1][2:-3])\n",
    "    f.close()\n",
    "\n",
    "    if(password != None):\n",
    "        password_encode = base64.encodebytes(password.encode(\"ascii\"))\n",
    "        f = open(filename, \"w\")\n",
    "        f.write(str(f1[0]))\n",
    "        f.write(str(password_encode))\n",
    "        f.close()\n",
    "        print(\"Username: \" + str(decoded_username))\n",
    "        print(\"Password: \" + str(password))\n",
    "    else:\n",
    "        print(\"Username:\" + str(decoded_username))\n",
    "        print(\"Password:\" + str(decoded_password))\n",
    "\n",
    "if __name__ == \"__main__\":\n",
    "    part1(3)  # odd!\n",
    "    part1(4)  # even!\n",
    "    part2()\n",
    "    part3(\"ratrace\")  # False\n",
    "    part3(\"racecar\")  # True\n",
    "    part4a(\"secret.txt\", \"naitian\", \"p4ssw0rd\")\n",
    "    part4b(\"secret.txt\")\n",
    "    part4b(\"secret.txt\", password=\"p4ssw0rd!\")\n",
    "    part4b(\"secret.txt\")\n",
    "\n"
   ]
  },
  {
   "cell_type": "code",
   "execution_count": 33,
   "metadata": {},
   "outputs": [
    {
     "name": "stdout",
     "output_type": "stream",
     "text": [
      "Username:b'shiwong'\n",
      "Password:b'apple'\n"
     ]
    }
   ],
   "source": []
  },
  {
   "cell_type": "code",
   "execution_count": null,
   "metadata": {},
   "outputs": [],
   "source": []
  }
 ],
 "metadata": {
  "kernelspec": {
   "display_name": "Python 3",
   "language": "python",
   "name": "python3"
  },
  "language_info": {
   "codemirror_mode": {
    "name": "ipython",
    "version": 3
   },
   "file_extension": ".py",
   "mimetype": "text/x-python",
   "name": "python",
   "nbconvert_exporter": "python",
   "pygments_lexer": "ipython3",
   "version": "3.7.4"
  }
 },
 "nbformat": 4,
 "nbformat_minor": 4
}
